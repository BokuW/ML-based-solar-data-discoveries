{
 "cells": [
  {
   "cell_type": "markdown",
   "id": "fcb2c6f0",
   "metadata": {},
   "source": [
    "# Import Dependencies"
   ]
  },
  {
   "cell_type": "code",
   "execution_count": 2,
   "id": "6b62534a",
   "metadata": {},
   "outputs": [],
   "source": [
    "import pandas as pd\n",
    "import numpy as np\n",
    "import matplotlib.pyplot as plt\n",
    "import seaborn as sns\n",
    "from scipy import stats"
   ]
  },
  {
   "cell_type": "markdown",
   "id": "d02a7334",
   "metadata": {},
   "source": [
    "# Load the data "
   ]
  },
  {
   "cell_type": "markdown",
   "id": "25569db2",
   "metadata": {},
   "source": [
    "**1.1 Load Each Countries Cleaned CSV**"
   ]
  },
  {
   "cell_type": "code",
   "execution_count": null,
   "id": "32af7e47",
   "metadata": {},
   "outputs": [],
   "source": [
    "print(\"\\n Cross-Countries Comparison\")\n",
    "# The Cleaned Data Files path of Sirra Leone.\n",
    "cleaned_file_path_sl = 'C:/Users/hp/OneDrive/Desktop/kaim-ai/KAIM/ML-based-solar-data-discoveries/data/sierraleone-bumbuna_clean.csv'\n",
    "# The Cleaned Data Files path of Benin.\n",
    "cleaned_file_path_bn = 'C:/Users/hp/OneDrive/Desktop/kaim-ai/KAIM/ML-based-solar-data-discoveries/data/benin-malanville_clean.csv' \n",
    "# The Cleaned Data Files path  of Togo. \n",
    "cleaned_file_path_tg = 'C:/Users/hp/OneDrive/Desktop/kaim-ai/KAIM/ML-based-solar-data-discoveries/data/togo-dapaong_qc_clean.csv'\n",
    "\n",
    "# Load the cleaned data for Sierra Leone.\n",
    "try:\n",
    "    df_sl = pd.read_csv(cleaned_file_path_sl, parse_dates=['Timestamp'])\n",
    "    print(f\"Successfully loaded cleaned data for Sierra Leone from {cleaned_file_path_sl}\")\n",
    "except FileNotFoundError:\n",
    "    print(f\"Error: Cleaned data file not found at {cleaned_file_path_sl}. Please check the path.\")\n",
    "    exit()\n",
    "\n",
    "# Load the cleaned data for Benin.\n",
    "try:\n",
    "    df_bn = pd.read_csv(cleaned_file_path_bn, parse_dates=['Timestamp'])\n",
    "    print(f\"Successfully loaded cleaned data for Benin from {cleaned_file_path_bn}\")\n",
    "except FileNotFoundError:\n",
    "    print(f\"Error: Cleaned data file not found at {cleaned_file_path_bn}. Please check the path.\")\n",
    "    exit()\n",
    "# Load the cleaned data for Togo.\n",
    "try:\n",
    "    df_tg = pd.read_csv(cleaned_file_path_tg, parse_dates=['Timestamp'])\n",
    "    print(f\"Successfully loaded cleaned data for Togo from {cleaned_file_path_tg}\")\n",
    "except FileNotFoundError:\n",
    "    print(f\"Error: Cleaned data file not found at {cleaned_file_path_tg}. Please check the path.\")\n",
    "    exit()\n",
    "# Check if the dataframes are empty\n",
    "if df_sl.empty or df_bn.empty or df_tg.empty:\n",
    "    print(\"Error: One or more dataframes are empty. Please check the data files.\")\n",
    "    exit()\n",
    "    "
   ]
  }
 ],
 "metadata": {
  "kernelspec": {
   "display_name": ".venv",
   "language": "python",
   "name": "python3"
  },
  "language_info": {
   "codemirror_mode": {
    "name": "ipython",
    "version": 3
   },
   "file_extension": ".py",
   "mimetype": "text/x-python",
   "name": "python",
   "nbconvert_exporter": "python",
   "pygments_lexer": "ipython3",
   "version": "3.11.9"
  }
 },
 "nbformat": 4,
 "nbformat_minor": 5
}
